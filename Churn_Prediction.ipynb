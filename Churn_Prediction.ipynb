{
  "nbformat": 4,
  "nbformat_minor": 0,
  "metadata": {
    "colab": {
      "name": "Big Data Project",
      "provenance": [],
      "collapsed_sections": []
    },
    "kernelspec": {
      "name": "python3",
      "display_name": "Python 3"
    },
    "language_info": {
      "name": "python"
    }
  },
  "cells": [
    {
      "cell_type": "code",
      "execution_count": 8,
      "metadata": {
        "id": "6muqYhjhqsxR"
      },
      "outputs": [],
      "source": [
        "import findspark\n",
        "from pyspark import SparkConf\n",
        "from pyspark.sql import SparkSession  #Connect spark code on top of spark engine\n",
        "spark = SparkSession.builder.master(\"local[1]\").getOrCreate()"
      ]
    },
    {
      "cell_type": "code",
      "source": [
        "#pip install pyspark"
      ],
      "metadata": {
        "id": "xGENVBfoDoos"
      },
      "execution_count": null,
      "outputs": []
    },
    {
      "cell_type": "code",
      "source": [
        "import datetime\n",
        "import time\n",
        "import numpy as np\n",
        "import pandas as pd\n",
        "import matplotlib.pyplot as plt\n",
        "import seaborn as sns\n",
        "\n",
        "from pyspark import SparkContext, SparkConf\n",
        "from pyspark.sql import SparkSession\n",
        "from pyspark.sql import Window\n",
        "from pyspark.sql.functions import udf, col, concat, count, lit, avg, lag, first, last, when\n",
        "from pyspark.sql.functions import min as Fmin, max as Fmax, sum as Fsum, round as Fround\n",
        "\n",
        "from pyspark.sql.types import IntegerType, DateType, TimestampType, StringType\n",
        "\n",
        "from pyspark.ml.feature import StandardScaler, VectorAssembler\n",
        "from pyspark.ml.evaluation import MulticlassClassificationEvaluator, RegressionEvaluator\n",
        "from pyspark.ml.classification import GBTClassifier, RandomForestClassifier, LinearSVC, LogisticRegression\n",
        "from pyspark.ml.tuning import CrossValidator, ParamGridBuilder\n",
        "from pyspark.ml import Pipeline"
      ],
      "metadata": {
        "id": "pzBziGy9y6YJ"
      },
      "execution_count": 9,
      "outputs": []
    },
    {
      "cell_type": "code",
      "source": [
        "spark = SparkSession \\\n",
        "    .builder \\\n",
        "    .appName(\"Sparkify\") \\\n",
        "    .getOrCreate()"
      ],
      "metadata": {
        "id": "70IFNNg6q7VH"
      },
      "execution_count": 10,
      "outputs": []
    },
    {
      "cell_type": "code",
      "source": [
        "path = \"/content/mini_sparkify_event_data.json\""
      ],
      "metadata": {
        "id": "DBuR8V5us5Qq"
      },
      "execution_count": 11,
      "outputs": []
    },
    {
      "cell_type": "code",
      "source": [
        "df = spark.read.json(path)"
      ],
      "metadata": {
        "id": "FVqNdDefq7W4"
      },
      "execution_count": 13,
      "outputs": []
    },
    {
      "cell_type": "code",
      "source": [
        "df.printSchema()"
      ],
      "metadata": {
        "colab": {
          "base_uri": "https://localhost:8080/",
          "height": 0
        },
        "id": "F54qf4pMq7gw",
        "outputId": "5ca7b98d-4754-4f06-a2c5-f5bfe1b0f0ae"
      },
      "execution_count": 14,
      "outputs": [
        {
          "output_type": "stream",
          "name": "stdout",
          "text": [
            "root\n",
            " |-- _corrupt_record: string (nullable = true)\n",
            " |-- artist: string (nullable = true)\n",
            " |-- auth: string (nullable = true)\n",
            " |-- firstName: string (nullable = true)\n",
            " |-- firstNamion: long (nullable = true)\n",
            " |-- gender: string (nullable = true)\n",
            " |-- itemInSession: long (nullable = true)\n",
            " |-- itemInSessione: string (nullable = true)\n",
            " |-- lastName: string (nullable = true)\n",
            " |-- length: double (nullable = true)\n",
            " |-- level: string (nullable = true)\n",
            " |-- location: string (nullable = true)\n",
            " |-- method: string (nullable = true)\n",
            " |-- page: string (nullable = true)\n",
            " |-- registration: long (nullable = true)\n",
            " |-- sessionId: long (nullable = true)\n",
            " |-- song: string (nullable = true)\n",
            " |-- status: long (nullable = true)\n",
            " |-- ts: long (nullable = true)\n",
            " |-- userAgent: string (nullable = true)\n",
            " |-- userId: string (nullable = true)\n",
            "\n"
          ]
        }
      ]
    },
    {
      "cell_type": "code",
      "source": [
        "print(\"The number of rows is {}\".format(df.count()))\n",
        "print(\"The number of columns is {}\".format(len(df.columns)))"
      ],
      "metadata": {
        "colab": {
          "base_uri": "https://localhost:8080/",
          "height": 0
        },
        "id": "fTQXmelwtKDu",
        "outputId": "d2fe6b82-a2d1-45f6-ceb2-9cf46e0bb6a3"
      },
      "execution_count": 15,
      "outputs": [
        {
          "output_type": "stream",
          "name": "stdout",
          "text": [
            "The number of rows is 30860\n",
            "The number of columns is 21\n"
          ]
        }
      ]
    },
    {
      "cell_type": "code",
      "source": [
        "# Number of duplicates\n",
        "df.count() - df.dropDuplicates().count()"
      ],
      "metadata": {
        "colab": {
          "base_uri": "https://localhost:8080/",
          "height": 0
        },
        "id": "aSPT3p6Jq7jE",
        "outputId": "d67703c8-64a0-4535-e1a3-256c8ed9570e"
      },
      "execution_count": 16,
      "outputs": [
        {
          "output_type": "execute_result",
          "data": {
            "text/plain": [
              "4741"
            ]
          },
          "metadata": {},
          "execution_count": 16
        }
      ]
    },
    {
      "cell_type": "code",
      "source": [
        "# convert the timestamps into datetime format and add them to the dataframe, for a clearer understanding\n",
        "from pyspark.sql.types import IntegerType, DateType, TimestampType, StringType\n",
        "df = df.withColumn('registrationDate', (df['registration'] / 1000).cast(TimestampType()))\n",
        "df = df.withColumn('tsDate', (df['ts'] / 1000).cast(TimestampType()))"
      ],
      "metadata": {
        "id": "rHnnSkjpq7lO"
      },
      "execution_count": 17,
      "outputs": []
    },
    {
      "cell_type": "code",
      "source": [
        "df.select('userId', 'page', 'song', 'ts', 'tsDate').sort('ts').show(10)"
      ],
      "metadata": {
        "colab": {
          "base_uri": "https://localhost:8080/",
          "height": 0
        },
        "id": "_hrFO5Rhq7nZ",
        "outputId": "c41f7e12-0cd3-407c-bab1-9a4720b325c3"
      },
      "execution_count": 18,
      "outputs": [
        {
          "output_type": "stream",
          "name": "stdout",
          "text": [
            "+------+--------+-----------------+-------------+-------------------+\n",
            "|userId|    page|             song|           ts|             tsDate|\n",
            "+------+--------+-----------------+-------------+-------------------+\n",
            "|  null|    null|             null|         null|               null|\n",
            "|  null|    null|             null|         null|               null|\n",
            "|  null|    null|             null|         null|               null|\n",
            "|  null|    null|             null|         null|               null|\n",
            "|  null|    null|             null|         null|               null|\n",
            "|  null|    null|             null|         null|               null|\n",
            "|  null|    null|             null|         null|               null|\n",
            "|    30|NextSong|        Rockpools|1538352117000|2018-10-01 00:01:57|\n",
            "|     9|NextSong|           Canada|1538352180000|2018-10-01 00:03:00|\n",
            "|    30|NextSong|Time For Miracles|1538352394000|2018-10-01 00:06:34|\n",
            "+------+--------+-----------------+-------------+-------------------+\n",
            "only showing top 10 rows\n",
            "\n"
          ]
        }
      ]
    },
    {
      "cell_type": "code",
      "source": [
        "df.select('userId', 'page', 'song', 'ts', 'tsDate').sort('ts', ascending = False).show(10)"
      ],
      "metadata": {
        "colab": {
          "base_uri": "https://localhost:8080/",
          "height": 0
        },
        "id": "1hF_Qi8etoIz",
        "outputId": "2d147cad-ba87-4e66-8c64-6f60fe8f5ce1"
      },
      "execution_count": 19,
      "outputs": [
        {
          "output_type": "stream",
          "name": "stdout",
          "text": [
            "+------+--------+--------------------+-------------+-------------------+\n",
            "|userId|    page|                song|           ts|             tsDate|\n",
            "+------+--------+--------------------+-------------+-------------------+\n",
            "|    15|NextSong|     Sol de invierno|1539085348000|2018-10-09 11:42:28|\n",
            "|   101|NextSong|       Irreplaceable|1539085298000|2018-10-09 11:41:38|\n",
            "|    29|NextSong|          Down Rodeo|1539085288000|2018-10-09 11:41:28|\n",
            "|    58|NextSong|Sugar Ray (LP Ver...|1539085251000|2018-10-09 11:40:51|\n",
            "|    29|NextSong|   Swamps Of Sadness|1539085174000|2018-10-09 11:39:34|\n",
            "|    39|NextSong|    Through The Fire|1539085164000|2018-10-09 11:39:24|\n",
            "|    15|NextSong|Don't Stop The Music|1539085080000|2018-10-09 11:38:00|\n",
            "|   101|NextSong| Have You Forgotten?|1539085054000|2018-10-09 11:37:34|\n",
            "|    58|NextSong|El reloj de la pa...|1539084989000|2018-10-09 11:36:29|\n",
            "|    39|    Home|                null|1539084981000|2018-10-09 11:36:21|\n",
            "+------+--------+--------------------+-------------+-------------------+\n",
            "only showing top 10 rows\n",
            "\n"
          ]
        }
      ]
    },
    {
      "cell_type": "code",
      "source": [
        "# Remove rows with corrupted timestamps\n",
        "df = df.where(df.ts <= 1543622399000)\n",
        "df.count()"
      ],
      "metadata": {
        "colab": {
          "base_uri": "https://localhost:8080/",
          "height": 0
        },
        "id": "DuGAHPsYtsuH",
        "outputId": "f811d3cf-d9bd-4487-d25e-4fc0c4f62bff"
      },
      "execution_count": 20,
      "outputs": [
        {
          "output_type": "execute_result",
          "data": {
            "text/plain": [
              "30853"
            ]
          },
          "metadata": {},
          "execution_count": 20
        }
      ]
    },
    {
      "cell_type": "code",
      "source": [
        "df.select(['userId', 'firstName', 'lastName', 'gender', 'location', 'registration', 'registrationDate', 'userAgent', 'level']).show(5)"
      ],
      "metadata": {
        "colab": {
          "base_uri": "https://localhost:8080/",
          "height": 0
        },
        "id": "F6g93pqyty_3",
        "outputId": "c576e653-edac-4370-db36-35a3ccfb4628"
      },
      "execution_count": 21,
      "outputs": [
        {
          "output_type": "stream",
          "name": "stdout",
          "text": [
            "+------+---------+--------+------+--------------------+-------------+-------------------+--------------------+-----+\n",
            "|userId|firstName|lastName|gender|            location| registration|   registrationDate|           userAgent|level|\n",
            "+------+---------+--------+------+--------------------+-------------+-------------------+--------------------+-----+\n",
            "|    30|    Colin| Freeman|     M|     Bakersfield, CA|1538173362000|2018-09-28 22:22:42|Mozilla/5.0 (Wind...| paid|\n",
            "|     9|    Micah|    Long|     M|Boston-Cambridge-...|1538331630000|2018-09-30 18:20:30|\"Mozilla/5.0 (Win...| free|\n",
            "|    30|    Colin| Freeman|     M|     Bakersfield, CA|1538173362000|2018-09-28 22:22:42|Mozilla/5.0 (Wind...| paid|\n",
            "|     9|    Micah|    Long|     M|Boston-Cambridge-...|1538331630000|2018-09-30 18:20:30|\"Mozilla/5.0 (Win...| free|\n",
            "|    30|    Colin| Freeman|     M|     Bakersfield, CA|1538173362000|2018-09-28 22:22:42|Mozilla/5.0 (Wind...| paid|\n",
            "+------+---------+--------+------+--------------------+-------------+-------------------+--------------------+-----+\n",
            "only showing top 5 rows\n",
            "\n"
          ]
        }
      ]
    },
    {
      "cell_type": "code",
      "source": [
        "\n",
        "# Number of unique users in the dataset\n",
        "print(\"Number of unique users is {}\".format(df.select(['userId']).dropDuplicates().count()))\n",
        "# Number of missing values in the 'userId' column\n",
        "print(\"Number of missing values in the 'userId' column is {}\".format(df.where(df.userId.isNull()).count()))"
      ],
      "metadata": {
        "colab": {
          "base_uri": "https://localhost:8080/",
          "height": 0
        },
        "id": "OfnlJp0Wt7EI",
        "outputId": "1ab44d6e-b9b9-43b5-8696-5a103f5acd74"
      },
      "execution_count": 22,
      "outputs": [
        {
          "output_type": "stream",
          "name": "stdout",
          "text": [
            "Number of unique users is 118\n",
            "Number of missing values in the 'userId' column is 0\n"
          ]
        }
      ]
    },
    {
      "cell_type": "code",
      "source": [
        "# Rows with empty strings in the 'userId' column.\n",
        "df.where(df.userId == \"\").count()"
      ],
      "metadata": {
        "colab": {
          "base_uri": "https://localhost:8080/",
          "height": 0
        },
        "id": "J9ymj_Syt-78",
        "outputId": "6bf73d4e-cf8e-428f-b509-e4f6fe7d81d9"
      },
      "execution_count": 23,
      "outputs": [
        {
          "output_type": "execute_result",
          "data": {
            "text/plain": [
              "972"
            ]
          },
          "metadata": {},
          "execution_count": 23
        }
      ]
    },
    {
      "cell_type": "code",
      "source": [
        "df.where(df.userId == \"\").select(['userId', 'firstName', 'lastName', 'gender', 'location', 'registration', 'userAgent', 'level', 'tsDate', 'page', 'auth',]).show(10)\n",
        "df.where(df.userId == \"\").groupby('auth').count().show()"
      ],
      "metadata": {
        "colab": {
          "base_uri": "https://localhost:8080/",
          "height": 0
        },
        "id": "3NSh15L2uCzT",
        "outputId": "a6c810e6-8bb3-4544-d742-bb43b85c94f5"
      },
      "execution_count": 24,
      "outputs": [
        {
          "output_type": "stream",
          "name": "stdout",
          "text": [
            "+------+---------+--------+------+--------+------------+---------+-----+-------------------+-----+----------+\n",
            "|userId|firstName|lastName|gender|location|registration|userAgent|level|             tsDate| page|      auth|\n",
            "+------+---------+--------+------+--------+------------+---------+-----+-------------------+-----+----------+\n",
            "|      |     null|    null|  null|    null|        null|     null| free|2018-10-01 01:02:25| Home|Logged Out|\n",
            "|      |     null|    null|  null|    null|        null|     null| free|2018-10-01 01:03:27| Help|Logged Out|\n",
            "|      |     null|    null|  null|    null|        null|     null| free|2018-10-01 01:04:01| Home|Logged Out|\n",
            "|      |     null|    null|  null|    null|        null|     null| free|2018-10-01 01:04:02|Login|Logged Out|\n",
            "|      |     null|    null|  null|    null|        null|     null| free|2018-10-01 01:17:58| Home|Logged Out|\n",
            "|      |     null|    null|  null|    null|        null|     null| free|2018-10-01 01:17:59|Login|Logged Out|\n",
            "|      |     null|    null|  null|    null|        null|     null| free|2018-10-01 01:41:42|Login|Logged Out|\n",
            "|      |     null|    null|  null|    null|        null|     null| free|2018-10-01 02:15:17|Login|Logged Out|\n",
            "|      |     null|    null|  null|    null|        null|     null| free|2018-10-01 02:38:47| Home|Logged Out|\n",
            "|      |     null|    null|  null|    null|        null|     null| free|2018-10-01 02:38:48|Login|Logged Out|\n",
            "+------+---------+--------+------+--------+------------+---------+-----+-------------------+-----+----------+\n",
            "only showing top 10 rows\n",
            "\n",
            "+----------+-----+\n",
            "|      auth|count|\n",
            "+----------+-----+\n",
            "|Logged Out|  972|\n",
            "+----------+-----+\n",
            "\n"
          ]
        }
      ]
    },
    {
      "cell_type": "code",
      "source": [
        "#  Log-specific information\n",
        "df.select(['ts', 'tsDate', 'page', 'auth', 'sessionId', 'itemInSession', 'method', 'status']).show(5)"
      ],
      "metadata": {
        "colab": {
          "base_uri": "https://localhost:8080/",
          "height": 0
        },
        "id": "AdF_K9BMuI_p",
        "outputId": "13ea172d-5b74-48c1-aea4-959cec608d88"
      },
      "execution_count": 25,
      "outputs": [
        {
          "output_type": "stream",
          "name": "stdout",
          "text": [
            "+-------------+-------------------+--------+---------+---------+-------------+------+------+\n",
            "|           ts|             tsDate|    page|     auth|sessionId|itemInSession|method|status|\n",
            "+-------------+-------------------+--------+---------+---------+-------------+------+------+\n",
            "|1538352117000|2018-10-01 00:01:57|NextSong|Logged In|       29|           50|   PUT|   200|\n",
            "|1538352180000|2018-10-01 00:03:00|NextSong|Logged In|        8|           79|   PUT|   200|\n",
            "|1538352394000|2018-10-01 00:06:34|NextSong|Logged In|       29|           51|   PUT|   200|\n",
            "|1538352416000|2018-10-01 00:06:56|NextSong|Logged In|        8|           80|   PUT|   200|\n",
            "|1538352676000|2018-10-01 00:11:16|NextSong|Logged In|       29|           52|   PUT|   200|\n",
            "+-------------+-------------------+--------+---------+---------+-------------+------+------+\n",
            "only showing top 5 rows\n",
            "\n"
          ]
        }
      ]
    },
    {
      "cell_type": "code",
      "source": [
        "df.groupby('method').count().show()"
      ],
      "metadata": {
        "colab": {
          "base_uri": "https://localhost:8080/",
          "height": 0
        },
        "id": "mx6WjoOKuRLf",
        "outputId": "c10dd53b-9f7b-4809-cfe1-63e023c241e6"
      },
      "execution_count": 26,
      "outputs": [
        {
          "output_type": "stream",
          "name": "stdout",
          "text": [
            "+------+-----+\n",
            "|method|count|\n",
            "+------+-----+\n",
            "|  null|    1|\n",
            "|   PUT|27653|\n",
            "|   GET| 3199|\n",
            "+------+-----+\n",
            "\n"
          ]
        }
      ]
    },
    {
      "cell_type": "code",
      "source": [
        "df.groupby('status').count().show()"
      ],
      "metadata": {
        "colab": {
          "base_uri": "https://localhost:8080/",
          "height": 0
        },
        "id": "tR-PMJ0GuUuT",
        "outputId": "19730ec2-de3b-4df6-d942-aeedecea8b0b"
      },
      "execution_count": 27,
      "outputs": [
        {
          "output_type": "stream",
          "name": "stdout",
          "text": [
            "+------+-----+\n",
            "|status|count|\n",
            "+------+-----+\n",
            "|  null|    1|\n",
            "|   307| 2730|\n",
            "|   404|   39|\n",
            "|   200|28083|\n",
            "+------+-----+\n",
            "\n"
          ]
        }
      ]
    },
    {
      "cell_type": "code",
      "source": [
        "\n",
        "# '404' status corresponds to 'Error' in the page column.\n",
        "\n",
        "df.where(df.status == '404').select(['userId', 'tsDate', 'sessionId', 'status', 'page']).show(5)"
      ],
      "metadata": {
        "colab": {
          "base_uri": "https://localhost:8080/",
          "height": 0
        },
        "id": "bv50HAmvudtg",
        "outputId": "6a9fbb10-ffb3-4243-f726-99d76447cf7d"
      },
      "execution_count": 28,
      "outputs": [
        {
          "output_type": "stream",
          "name": "stdout",
          "text": [
            "+------+-------------------+---------+------+-----+\n",
            "|userId|             tsDate|sessionId|status| page|\n",
            "+------+-------------------+---------+------+-----+\n",
            "|   131|2018-10-01 11:37:28|      249|   404|Error|\n",
            "|   140|2018-10-01 15:32:07|      139|   404|Error|\n",
            "|   124|2018-10-05 07:20:12|      420|   404|Error|\n",
            "|    91|2018-10-05 08:42:28|       90|   404|Error|\n",
            "|    91|2018-10-05 11:33:25|       90|   404|Error|\n",
            "+------+-------------------+---------+------+-----+\n",
            "only showing top 5 rows\n",
            "\n"
          ]
        }
      ]
    },
    {
      "cell_type": "code",
      "source": [
        "print(\"Number of missing values in the 'page' column is {}\".format(df.where(df.page.isNull()).count()))"
      ],
      "metadata": {
        "colab": {
          "base_uri": "https://localhost:8080/",
          "height": 0
        },
        "id": "8gXOVwZaujK0",
        "outputId": "86b58ae6-e85e-498c-d489-a601db0216d1"
      },
      "execution_count": 29,
      "outputs": [
        {
          "output_type": "stream",
          "name": "stdout",
          "text": [
            "Number of missing values in the 'page' column is 0\n"
          ]
        }
      ]
    },
    {
      "cell_type": "code",
      "source": [
        "\n",
        "# pages types\n",
        "\n",
        "pages_num = df.select('page').dropDuplicates().count()\n",
        "df.select('page').dropDuplicates().show(pages_num)\n",
        "print(\"Number of user actions is {}\".format(pages_num))"
      ],
      "metadata": {
        "colab": {
          "base_uri": "https://localhost:8080/",
          "height": 0
        },
        "id": "pkPEdgsbumjd",
        "outputId": "1e27dd5b-c80d-405a-b5ae-7d85b68b7927"
      },
      "execution_count": 30,
      "outputs": [
        {
          "output_type": "stream",
          "name": "stdout",
          "text": [
            "+--------------------+\n",
            "|                page|\n",
            "+--------------------+\n",
            "|              Cancel|\n",
            "|    Submit Downgrade|\n",
            "|         Thumbs Down|\n",
            "|                Home|\n",
            "|           Downgrade|\n",
            "|         Roll Advert|\n",
            "|              Logout|\n",
            "|       Save Settings|\n",
            "|Cancellation Conf...|\n",
            "|               About|\n",
            "|            Settings|\n",
            "|               Login|\n",
            "|     Add to Playlist|\n",
            "|          Add Friend|\n",
            "|            NextSong|\n",
            "|           Thumbs Up|\n",
            "|                Help|\n",
            "|             Upgrade|\n",
            "|               Error|\n",
            "|      Submit Upgrade|\n",
            "+--------------------+\n",
            "\n",
            "Number of user actions is 20\n"
          ]
        }
      ]
    },
    {
      "cell_type": "code",
      "source": [
        "# plotting most often uses pages\n",
        "import matplotlib.pyplot as plt\n",
        "\n",
        "pages_df = df.groupby('page').count().toPandas()\n",
        "\n",
        "# Plot\n",
        "fig, ax = plt.subplots(figsize=(10, 5))\n",
        "\n",
        "ax.bar(pages_df['page'], pages_df['count'])\n",
        "ax.set_ylabel('Scores')\n",
        "ax.set_title('Page traffic')\n",
        "ax.legend()\n",
        "fig.autofmt_xdate()\n",
        "\n",
        "plt.show()\n",
        "\n",
        "%matplot plt"
      ],
      "metadata": {
        "colab": {
          "base_uri": "https://localhost:8080/",
          "height": 407
        },
        "id": "9jjYMz16upqi",
        "outputId": "af548966-dceb-4569-ee79-b394f5104679"
      },
      "execution_count": 31,
      "outputs": [
        {
          "output_type": "stream",
          "name": "stderr",
          "text": [
            "No handles with labels found to put in legend.\n"
          ]
        },
        {
          "output_type": "display_data",
          "data": {
            "text/plain": [
              "<Figure size 720x360 with 1 Axes>"
            ],
            "image/png": "[encoded data removed]"
          },
          "metadata": {
            "needs_background": "light"
          }
        },
        {
          "output_type": "stream",
          "name": "stderr",
          "text": [
            "UsageError: Line magic function `%matplot` not found.\n"
          ]
        }
      ]
    },
    {
      "cell_type": "code",
      "source": [
        "df.groupby('auth').count().show()"
      ],
      "metadata": {
        "colab": {
          "base_uri": "https://localhost:8080/",
          "height": 0
        },
        "id": "BGNiP1Q5uuki",
        "outputId": "0149bc55-7ee0-42df-dbb4-79bb43d9e30f"
      },
      "execution_count": 32,
      "outputs": [
        {
          "output_type": "stream",
          "name": "stdout",
          "text": [
            "+----------+-----+\n",
            "|      auth|count|\n",
            "+----------+-----+\n",
            "|Logged Out|  972|\n",
            "| Cancelled|    2|\n",
            "|Loggem, CA|    1|\n",
            "| Logged In|29878|\n",
            "+----------+-----+\n",
            "\n"
          ]
        }
      ]
    },
    {
      "cell_type": "code",
      "source": [
        "print(\"Number of sessionId is {}\".format(df.select('sessionId').dropDuplicates().count()))\n",
        "print(\"Number of missing values in the sessionId column is {}\".format(df.where(df.sessionId.isNull()).count()))\n",
        "print(\"Number of empty values in the sessionId column is {}\".format(df.where(df.sessionId == \"\").count()))"
      ],
      "metadata": {
        "colab": {
          "base_uri": "https://localhost:8080/",
          "height": 0
        },
        "id": "o0TL6UNIu_FN",
        "outputId": "c25fbef2-75ac-4569-9d4d-72678e7d0451"
      },
      "execution_count": 33,
      "outputs": [
        {
          "output_type": "stream",
          "name": "stdout",
          "text": [
            "Number of sessionId is 393\n",
            "Number of missing values in the sessionId column is 0\n",
            "Number of empty values in the sessionId column is 0\n"
          ]
        }
      ]
    },
    {
      "cell_type": "code",
      "source": [
        "\n",
        "# explore maximum and minimum session length \n",
        "from pyspark.sql.functions import min as Fmin, max as Fmax, sum as Fsum, round as Fround\n",
        "sessions_df = df.where(df.userId != \"\").groupby(['userId','sessionId']) \\\n",
        "                                            .agg(((Fmax('ts') - Fmin('ts'))/1000).alias('sessionlength'))\n",
        "\n",
        "sessions_df.sort('sessionlength', ascending = False).show(5)\n",
        "sessions_df.where(sessions_df.sessionlength != 0).sort('sessionlength', ascending = True).show(5)"
      ],
      "metadata": {
        "colab": {
          "base_uri": "https://localhost:8080/",
          "height": 0
        },
        "id": "XGioyZ0avQJW",
        "outputId": "bc30cea7-c73f-4d83-b52a-9b0685a478b5"
      },
      "execution_count": 34,
      "outputs": [
        {
          "output_type": "stream",
          "name": "stdout",
          "text": [
            "+------+---------+-------------+\n",
            "|userId|sessionId|sessionlength|\n",
            "+------+---------+-------------+\n",
            "|   115|      316|     222919.0|\n",
            "|    51|      236|     124163.0|\n",
            "|   141|      479|     111728.0|\n",
            "|   101|      496|      95332.0|\n",
            "|   124|      420|      93567.0|\n",
            "+------+---------+-------------+\n",
            "only showing top 5 rows\n",
            "\n",
            "+------+---------+-------------+\n",
            "|userId|sessionId|sessionlength|\n",
            "+------+---------+-------------+\n",
            "|    30|      264|          1.0|\n",
            "|   122|      403|          1.0|\n",
            "|     5|      380|          1.0|\n",
            "|    52|      253|          1.0|\n",
            "|    95|      445|         12.0|\n",
            "+------+---------+-------------+\n",
            "only showing top 5 rows\n",
            "\n"
          ]
        }
      ]
    },
    {
      "cell_type": "code",
      "source": [
        "# Song-level information\n",
        "df.select(['artist', 'song', 'length']).show(5)"
      ],
      "metadata": {
        "colab": {
          "base_uri": "https://localhost:8080/",
          "height": 0
        },
        "id": "dCiWvRFTwxAM",
        "outputId": "03156fc2-f31e-40ed-cb1d-dd0e5451bbfe"
      },
      "execution_count": 35,
      "outputs": [
        {
          "output_type": "stream",
          "name": "stdout",
          "text": [
            "+----------------+--------------------+---------+\n",
            "|          artist|                song|   length|\n",
            "+----------------+--------------------+---------+\n",
            "|  Martha Tilston|           Rockpools|277.89016|\n",
            "|Five Iron Frenzy|              Canada|236.09424|\n",
            "|    Adam Lambert|   Time For Miracles| 282.8273|\n",
            "|          Enigma|Knocking On Forbi...|262.71302|\n",
            "|       Daft Punk|Harder Better Fas...|223.60771|\n",
            "+----------------+--------------------+---------+\n",
            "only showing top 5 rows\n",
            "\n"
          ]
        }
      ]
    },
    {
      "cell_type": "code",
      "source": [
        "# number of listen songs\n",
        "df.where(df.page == 'NextSong').groupby('page').count().show()"
      ],
      "metadata": {
        "colab": {
          "base_uri": "https://localhost:8080/",
          "height": 0
        },
        "id": "3Sh_xAbGxBQ4",
        "outputId": "7639c75a-d881-4b61-e264-0edbdc511096"
      },
      "execution_count": 36,
      "outputs": [
        {
          "output_type": "stream",
          "name": "stdout",
          "text": [
            "+--------+-----+\n",
            "|    page|count|\n",
            "+--------+-----+\n",
            "|NextSong|24276|\n",
            "+--------+-----+\n",
            "\n"
          ]
        }
      ]
    },
    {
      "cell_type": "code",
      "source": [
        "print(\"Number of different artists is {}\".format(df.where(df.artist.isNotNull()).select('artist').dropDuplicates().count()))\n",
        "print(\"Number of different song names is {}\".format(df.where(df.song.isNotNull()).select('song').dropDuplicates().count()))\n",
        "print(\"Number of songs in dataset (including full duplicates) is {}\".format(df.select(['artist','song','length']).dropDuplicates().count()))\n",
        "print(\"Number of songs in dataset (including duplicates with same artist and song name) is {}\".format(df.select(['artist','song']).dropDuplicates().count()))\n"
      ],
      "metadata": {
        "colab": {
          "base_uri": "https://localhost:8080/",
          "height": 0
        },
        "id": "iTSRexfixF3N",
        "outputId": "102f5f1d-5537-4a66-9262-ddb4a92d7f33"
      },
      "execution_count": 37,
      "outputs": [
        {
          "output_type": "stream",
          "name": "stdout",
          "text": [
            "Number of different artists is 6254\n",
            "Number of different song names is 12640\n",
            "Number of songs in dataset (including full duplicates) is 13297\n",
            "Number of songs in dataset (including duplicates with same artist and song name) is 13193\n"
          ]
        }
      ]
    },
    {
      "cell_type": "markdown",
      "source": [
        "**EXPLORATORY DATA ANALYSIS**"
      ],
      "metadata": {
        "id": "OJ4TGHYDxPWN"
      }
    },
    {
      "cell_type": "code",
      "source": [
        "# Drop missing userId and sessionId\n",
        "df = df.dropna(how = 'any', subset = ['userId','sessionId'])\n",
        "df = df[df.userId != \"\"]"
      ],
      "metadata": {
        "id": "ajt-3TynxKes"
      },
      "execution_count": 38,
      "outputs": []
    },
    {
      "cell_type": "code",
      "source": [
        "from pyspark.sql.functions import udf, col, concat, count, lit, avg, lag, first, last, when\n",
        "from pyspark.sql import Window\n",
        "# add downgrade flag\n",
        "df = df.withColumn('downgrade', when(df.page == 'Submit Downgrade', 1).otherwise(0))\n",
        "df = df.withColumn('user_downgrade', Fmax('downgrade').over(Window.partitionBy('UserId')))\n",
        "\n",
        "# add churn\n",
        "df = df.withColumn('churn', when(df.page == 'Cancellation Confirmation', 1).otherwise(0))\n",
        "df = df.withColumn('user_churn', Fmax('churn').over(Window.partitionBy('UserId')))"
      ],
      "metadata": {
        "id": "UDwLD8dmxUHr"
      },
      "execution_count": 39,
      "outputs": []
    },
    {
      "cell_type": "code",
      "source": [
        "churn_gender_df = df.drop_duplicates(['userId', 'gender']).groupby(['user_churn', 'gender']).count().toPandas()\n",
        "churn_gender_df"
      ],
      "metadata": {
        "colab": {
          "base_uri": "https://localhost:8080/",
          "height": 175
        },
        "id": "6bIalIcDxdAL",
        "outputId": "d833b819-d51e-478b-d6b0-97715cf5162b"
      },
      "execution_count": 40,
      "outputs": [
        {
          "output_type": "execute_result",
          "data": {
            "text/plain": [
              "   user_churn gender  count\n",
              "0           0      M     56\n",
              "1           1      M      2\n",
              "2           0      F     61\n",
              "3           0   None      1"
            ],
            "text/html": [
              "\n",
              "  <div id=\"df-62d217fc-6c63-4807-965b-ae07a70085b0\">\n",
              "    <div class=\"colab-df-container\">\n",
              "      <div>\n",
              "<style scoped>\n",
              "    .dataframe tbody tr th:only-of-type {\n",
              "        vertical-align: middle;\n",
              "    }\n",
              "\n",
              "    .dataframe tbody tr th {\n",
              "        vertical-align: top;\n",
              "    }\n",
              "\n",
              "    .dataframe thead th {\n",
              "        text-align: right;\n",
              "    }\n",
              "</style>\n",
              "<table border=\"1\" class=\"dataframe\">\n",
              "  <thead>\n",
              "    <tr style=\"text-align: right;\">\n",
              "      <th></th>\n",
              "      <th>user_churn</th>\n",
              "      <th>gender</th>\n",
              "      <th>count</th>\n",
              "    </tr>\n",
              "  </thead>\n",
              "  <tbody>\n",
              "    <tr>\n",
              "      <th>0</th>\n",
              "      <td>0</td>\n",
              "      <td>M</td>\n",
              "      <td>56</td>\n",
              "    </tr>\n",
              "    <tr>\n",
              "      <th>1</th>\n",
              "      <td>1</td>\n",
              "      <td>M</td>\n",
              "      <td>2</td>\n",
              "    </tr>\n",
              "    <tr>\n",
              "      <th>2</th>\n",
              "      <td>0</td>\n",
              "      <td>F</td>\n",
              "      <td>61</td>\n",
              "    </tr>\n",
              "    <tr>\n",
              "      <th>3</th>\n",
              "      <td>0</td>\n",
              "      <td>None</td>\n",
              "      <td>1</td>\n",
              "    </tr>\n",
              "  </tbody>\n",
              "</table>\n",
              "</div>\n",
              "      <button class=\"colab-df-convert\" onclick=\"convertToInteractive('df-62d217fc-6c63-4807-965b-ae07a70085b0')\"\n",
              "              title=\"Convert this dataframe to an interactive table.\"\n",
              "              style=\"display:none;\">\n",
              "        \n",
              "  <svg xmlns=\"http://www.w3.org/2000/svg\" height=\"24px\"viewBox=\"0 0 24 24\"\n",
              "       width=\"24px\">\n",
              "    <path d=\"M0 0h24v24H0V0z\" fill=\"none\"/>\n",
              "    <path d=\"M18.56 5.44l.94 2.06.94-2.06 2.06-.94-2.06-.94-.94-2.06-.94 2.06-2.06.94zm-11 1L8.5 8.5l.94-2.06 2.06-.94-2.06-.94L8.5 2.5l-.94 2.06-2.06.94zm10 10l.94 2.06.94-2.06 2.06-.94-2.06-.94-.94-2.06-.94 2.06-2.06.94z\"/><path d=\"M17.41 7.96l-1.37-1.37c-.4-.4-.92-.59-1.43-.59-.52 0-1.04.2-1.43.59L10.3 9.45l-7.72 7.72c-.78.78-.78 2.05 0 2.83L4 21.41c.39.39.9.59 1.41.59.51 0 1.02-.2 1.41-.59l7.78-7.78 2.81-2.81c.8-.78.8-2.07 0-2.86zM5.41 20L4 18.59l7.72-7.72 1.47 1.35L5.41 20z\"/>\n",
              "  </svg>\n",
              "      </button>\n",
              "      \n",
              "  <style>\n",
              "    .colab-df-container {\n",
              "      display:flex;\n",
              "      flex-wrap:wrap;\n",
              "      gap: 12px;\n",
              "    }\n",
              "\n",
              "    .colab-df-convert {\n",
              "      background-color: #E8F0FE;\n",
              "      border: none;\n",
              "      border-radius: 50%;\n",
              "      cursor: pointer;\n",
              "      display: none;\n",
              "      fill: #1967D2;\n",
              "      height: 32px;\n",
              "      padding: 0 0 0 0;\n",
              "      width: 32px;\n",
              "    }\n",
              "\n",
              "    .colab-df-convert:hover {\n",
              "      background-color: #E2EBFA;\n",
              "      box-shadow: 0px 1px 2px rgba(60, 64, 67, 0.3), 0px 1px 3px 1px rgba(60, 64, 67, 0.15);\n",
              "      fill: #174EA6;\n",
              "    }\n",
              "\n",
              "    [theme=dark] .colab-df-convert {\n",
              "      background-color: #3B4455;\n",
              "      fill: #D2E3FC;\n",
              "    }\n",
              "\n",
              "    [theme=dark] .colab-df-convert:hover {\n",
              "      background-color: #434B5C;\n",
              "      box-shadow: 0px 1px 3px 1px rgba(0, 0, 0, 0.15);\n",
              "      filter: drop-shadow(0px 1px 2px rgba(0, 0, 0, 0.3));\n",
              "      fill: #FFFFFF;\n",
              "    }\n",
              "  </style>\n",
              "\n",
              "      <script>\n",
              "        const buttonEl =\n",
              "          document.querySelector('#df-62d217fc-6c63-4807-965b-ae07a70085b0 button.colab-df-convert');\n",
              "        buttonEl.style.display =\n",
              "          google.colab.kernel.accessAllowed ? 'block' : 'none';\n",
              "\n",
              "        async function convertToInteractive(key) {\n",
              "          const element = document.querySelector('#df-62d217fc-6c63-4807-965b-ae07a70085b0');\n",
              "          const dataTable =\n",
              "            await google.colab.kernel.invokeFunction('convertToInteractive',\n",
              "                                                     [key], {});\n",
              "          if (!dataTable) return;\n",
              "\n",
              "          const docLinkHtml = 'Like what you see? Visit the ' +\n",
              "            '<a target=\"_blank\" href=https://colab.research.google.com/notebooks/data_table.ipynb>data table notebook</a>'\n",
              "            + ' to learn more about interactive tables.';\n",
              "          element.innerHTML = '';\n",
              "          dataTable['output_type'] = 'display_data';\n",
              "          await google.colab.output.renderOutput(dataTable, element);\n",
              "          const docLink = document.createElement('div');\n",
              "          docLink.innerHTML = docLinkHtml;\n",
              "          element.appendChild(docLink);\n",
              "        }\n",
              "      </script>\n",
              "    </div>\n",
              "  </div>\n",
              "  "
            ]
          },
          "metadata": {},
          "execution_count": 40
        }
      ]
    },
    {
      "cell_type": "code",
      "source": [
        "import seaborn as sns\n",
        "#Plotting a bar plot to show gender distribution between regular and churn users\n",
        "fig, ax = plt.subplots(figsize=(10, 5))\n",
        "plt.title('Gender distribution between regular and churn users')\n",
        "ax = sns.barplot(x = 'user_churn', y = 'count', data = churn_gender_df, hue = 'gender')\n",
        "\n",
        "ax.set(xticklabels=['Not Churned', 'Churned'])\n",
        "\n",
        "ax.set_ylabel('Count')\n",
        "ax.set_xlabel('User Churn')\n",
        "ax.legend()\n",
        "\n",
        "%matplot plt"
      ],
      "metadata": {
        "colab": {
          "base_uri": "https://localhost:8080/",
          "height": 367
        },
        "id": "kgBwwyH2x1oT",
        "outputId": "c166c058-0e38-4709-8478-cb9d1d0fc16a"
      },
      "execution_count": 41,
      "outputs": [
        {
          "output_type": "stream",
          "name": "stderr",
          "text": [
            "UsageError: Line magic function `%matplot` not found.\n"
          ]
        },
        {
          "output_type": "display_data",
          "data": {
            "text/plain": [
              "<Figure size 720x360 with 1 Axes>"
            ],
            "image/png": "[encoded data removed]"
          },
          "metadata": {
            "needs_background": "light"
          }
        }
      ]
    },
    {
      "cell_type": "code",
      "source": [
        "# Plotting a bar plot to show differense between Paid/Free customers churn\n",
        "fig, ax = plt.subplots(figsize=(10, 5))\n",
        "\n",
        "df_level_pd = df.filter('page == \"Cancellation Confirmation\"').groupby('level').count().toPandas()\n",
        "plt.title('Paid/Free customers churn')\n",
        "sns.barplot(data = df_level_pd, x = 'level', y = 'count', color = sns.color_palette()[0])\n",
        "\n",
        "ax.set(xticklabels=['Free', 'Paid'])\n",
        "\n",
        "ax.set_ylabel('Count')\n",
        "ax.set_xlabel('User Level')\n",
        "ax.legend()"
      ],
      "metadata": {
        "colab": {
          "base_uri": "https://localhost:8080/",
          "height": 385
        },
        "id": "hhJTqGxlx6bu",
        "outputId": "3e55b1bc-ce6a-482c-f39c-5d9a69d9b5c4"
      },
      "execution_count": 42,
      "outputs": [
        {
          "output_type": "stream",
          "name": "stderr",
          "text": [
            "No handles with labels found to put in legend.\n"
          ]
        },
        {
          "output_type": "execute_result",
          "data": {
            "text/plain": [
              "<matplotlib.legend.Legend at 0x7f505f9b8710>"
            ]
          },
          "metadata": {},
          "execution_count": 42
        },
        {
          "output_type": "display_data",
          "data": {
            "text/plain": [
              "<Figure size 720x360 with 1 Axes>"
            ],
            "image/png": "[encoded data removed]"
          },
          "metadata": {
            "needs_background": "light"
          }
        }
      ]
    },
    {
      "cell_type": "code",
      "source": [
        "# Plotting a bar plot to show differense between Paid/Free customers churn\n",
        "fig, ax = plt.subplots(figsize=(10, 5))\n",
        "\n",
        "df_level_pd = df.filter('page == \"Cancellation Confirmation\"').groupby('level').count().toPandas()\n",
        "plt.title('Paid/Free customers churn')\n",
        "sns.barplot(data = df_level_pd, x = 'level', y = 'count', color = sns.color_palette()[0])\n",
        "\n",
        "ax.set(xticklabels=['Free', 'Paid'])\n",
        "\n",
        "ax.set_ylabel('Count')\n",
        "ax.set_xlabel('User Level')\n",
        "ax.legend()\n",
        "\n",
        "%matplot plt"
      ],
      "metadata": {
        "id": "Va8HVV7gywCc",
        "colab": {
          "base_uri": "https://localhost:8080/",
          "height": 385
        },
        "outputId": "6744d7b1-ef3e-4346-e885-35fd3861e31d"
      },
      "execution_count": 43,
      "outputs": [
        {
          "output_type": "stream",
          "name": "stderr",
          "text": [
            "No handles with labels found to put in legend.\n",
            "UsageError: Line magic function `%matplot` not found.\n"
          ]
        },
        {
          "output_type": "display_data",
          "data": {
            "text/plain": [
              "<Figure size 720x360 with 1 Axes>"
            ],
            "image/png": "[encoded data removed]"
          },
          "metadata": {
            "needs_background": "light"
          }
        }
      ]
    },
    {
      "cell_type": "code",
      "source": [
        "# Plotting Number of songs played per session\n",
        "\n",
        "avg_songs_df = df.where(df.song.isNotNull()).groupby(['user_churn', 'userId', 'sessionId']).count()\\\n",
        "    .groupby(['user_churn', 'userId']).agg({'count': 'avg'}).toPandas()\n",
        "\n",
        "fig, ax = plt.subplots(figsize=(10, 5))\n",
        "\n",
        "plt.title('Number of songs played per session')\n",
        "sns.boxplot('user_churn', y = 'avg(count)', data = avg_songs_df)\n",
        "\n",
        "ax.set(xticklabels=['Not Churned', 'Churned'])\n",
        "\n",
        "ax.set_ylabel('Count')\n",
        "ax.set_xlabel('User Churn')\n",
        "ax.legend()\n",
        "\n",
        "%matplot plt"
      ],
      "metadata": {
        "id": "ATvVPBn5jojR",
        "colab": {
          "base_uri": "https://localhost:8080/",
          "height": 439
        },
        "outputId": "ca07322f-2466-4244-a0cc-773505f206e5"
      },
      "execution_count": 44,
      "outputs": [
        {
          "output_type": "stream",
          "name": "stderr",
          "text": [
            "/usr/local/lib/python3.7/dist-packages/seaborn/_decorators.py:43: FutureWarning: Pass the following variable as a keyword arg: x. From version 0.12, the only valid positional argument will be `data`, and passing other arguments without an explicit keyword will result in an error or misinterpretation.\n",
            "  FutureWarning\n",
            "No handles with labels found to put in legend.\n",
            "UsageError: Line magic function `%matplot` not found.\n"
          ]
        },
        {
          "output_type": "display_data",
          "data": {
            "text/plain": [
              "<Figure size 720x360 with 1 Axes>"
            ],
            "image/png": "[encoded data removed]"
          },
          "metadata": {
            "needs_background": "light"
          }
        }
      ]
    },
    {
      "cell_type": "code",
      "source": [
        "avg_session_df = df.groupby(['user_churn', 'userId', 'sessionId']) \\\n",
        "            .agg(((Fmax('ts') - Fmin('ts')) / 1000).alias('sessionlength')) \\\n",
        "            .groupby(['user_churn', 'userId']).agg({'sessionlength': 'avg'}).toPandas()\n",
        "\n",
        "fig, ax = plt.subplots(figsize=(10, 5))\n",
        "\n",
        "plt.title('Average session lenght')\n",
        "sns.boxplot('user_churn', y = 'avg(sessionlength)', data = avg_session_df)\n",
        "\n",
        "ax.set(xticklabels=['Not Churned', 'Churned'])\n",
        "\n",
        "ax.set_ylabel('Count')\n",
        "ax.set_xlabel('User Churn')\n",
        "ax.legend()\n",
        "\n",
        "%matplot plt"
      ],
      "metadata": {
        "id": "TeHgq_l5joph",
        "colab": {
          "base_uri": "https://localhost:8080/",
          "height": 439
        },
        "outputId": "3d571216-9c74-4014-feb0-0ab8e5c28765"
      },
      "execution_count": 45,
      "outputs": [
        {
          "output_type": "stream",
          "name": "stderr",
          "text": [
            "/usr/local/lib/python3.7/dist-packages/seaborn/_decorators.py:43: FutureWarning: Pass the following variable as a keyword arg: x. From version 0.12, the only valid positional argument will be `data`, and passing other arguments without an explicit keyword will result in an error or misinterpretation.\n",
            "  FutureWarning\n",
            "No handles with labels found to put in legend.\n",
            "UsageError: Line magic function `%matplot` not found.\n"
          ]
        },
        {
          "output_type": "display_data",
          "data": {
            "text/plain": [
              "<Figure size 720x360 with 1 Axes>"
            ],
            "image/png": "[encoded data removed]"
          },
          "metadata": {
            "needs_background": "light"
          }
        }
      ]
    },
    {
      "cell_type": "code",
      "source": [
        "life_time_df = df.groupby(['user_churn', 'userId', 'ts', 'registration']).count() \\\n",
        "                    .withColumn('life_time', (df.ts - df.registration) / 1000) \\\n",
        "                    .groupBy('userId', 'user_churn').agg({'life_time' : 'max'}).toPandas()\n",
        "\n",
        "# Plottint this dataframe\n",
        "fig, ax = plt.subplots(figsize=(5, 8))\n",
        "\n",
        "sns.boxplot(data=life_time_df, x='user_churn', y='max(life_time)')\n",
        "plt.xlabel('User Churn')\n",
        "plt.ylabel('Time Since Registration')\n",
        "plt.title('Time since registration and churn')\n",
        "ax.set(xticklabels=['Not Churned', 'Churned'])\n",
        "\n",
        "%matplot plt"
      ],
      "metadata": {
        "id": "awhW0jLejouc",
        "colab": {
          "base_uri": "https://localhost:8080/",
          "height": 530
        },
        "outputId": "987516a8-6c86-469f-d5ba-a4533aecd60a"
      },
      "execution_count": 46,
      "outputs": [
        {
          "output_type": "stream",
          "name": "stderr",
          "text": [
            "UsageError: Line magic function `%matplot` not found.\n"
          ]
        },
        {
          "output_type": "display_data",
          "data": {
            "text/plain": [
              "<Figure size 360x576 with 1 Axes>"
            ],
            "image/png": "[encoded data removed]"
          },
          "metadata": {
            "needs_background": "light"
          }
        }
      ]
    },
    {
      "cell_type": "code",
      "source": [
        "# dataframe whith friends\n",
        "friends_df = df.where('page == \"Add Friend\"').groupby(['user_churn', 'userId']).count()\\\n",
        "                        .groupby(['user_churn', 'userId']).agg({'count': 'avg'}).toPandas()\n",
        "\n",
        "# Plottint how Number of Friends correlations with Churn\n",
        "\n",
        "fig, ax = plt.subplots(figsize=(10, 5))\n",
        "\n",
        "plt.title('Number of Friends')\n",
        "sns.boxplot('user_churn', y = 'avg(count)', data = friends_df)\n",
        "plt.ylabel('Average Number of Friends')\n",
        "plt.xlabel('User Churn')\n",
        "ax.set(xticklabels=['Not Churned', 'Churned'])\n",
        "\n",
        "%matplot plt"
      ],
      "metadata": {
        "id": "EMDsqPjajoyF",
        "colab": {
          "base_uri": "https://localhost:8080/",
          "height": 422
        },
        "outputId": "92bc303b-1a2b-44d8-eaf7-c1218eb30599"
      },
      "execution_count": 47,
      "outputs": [
        {
          "output_type": "stream",
          "name": "stderr",
          "text": [
            "/usr/local/lib/python3.7/dist-packages/seaborn/_decorators.py:43: FutureWarning: Pass the following variable as a keyword arg: x. From version 0.12, the only valid positional argument will be `data`, and passing other arguments without an explicit keyword will result in an error or misinterpretation.\n",
            "  FutureWarning\n",
            "UsageError: Line magic function `%matplot` not found.\n"
          ]
        },
        {
          "output_type": "display_data",
          "data": {
            "text/plain": [
              "<Figure size 720x360 with 1 Axes>"
            ],
            "image/png": "[encoded data removed]"
          },
          "metadata": {
            "needs_background": "light"
          }
        }
      ]
    },
    {
      "cell_type": "code",
      "source": [
        "features = []\n",
        "songs_df = df.select('userID', 'page').where(df.page == 'NextSong').groupBy('userID').count() \\\n",
        "                    .withColumnRenamed('count', 'songs')\n",
        "\n",
        "songs_df.show(5)\n",
        "\n",
        "features.append(songs_df)"
      ],
      "metadata": {
        "id": "ULwjI-Hwjo08"
      },
      "execution_count": null,
      "outputs": []
    },
    {
      "cell_type": "code",
      "source": [
        "gender_df = df.groupby('userId').agg(first(when(col('gender') == \"F\", 1).otherwise(0)).alias('gender'))\n",
        "\n",
        "gender_df.show(5)\n",
        "\n",
        "features.append(gender_df)"
      ],
      "metadata": {
        "id": "5s3yqPFvjo3o",
        "colab": {
          "base_uri": "https://localhost:8080/",
          "height": 0
        },
        "outputId": "912e3276-9a55-41f0-b61d-2ee46eab904e"
      },
      "execution_count": 49,
      "outputs": [
        {
          "output_type": "stream",
          "name": "stdout",
          "text": [
            "+------+------+\n",
            "|userId|gender|\n",
            "+------+------+\n",
            "|    51|     0|\n",
            "|   124|     1|\n",
            "|     7|     0|\n",
            "|    54|     1|\n",
            "|    15|     0|\n",
            "+------+------+\n",
            "only showing top 5 rows\n",
            "\n"
          ]
        }
      ]
    },
    {
      "cell_type": "code",
      "source": [
        "thumbs_down_df = df.select('userId', 'page').where(df.page == 'Thumbs Down').groupBy('userId').count() \\\n",
        "                    .withColumnRenamed('count', 'thumbs_down')\n",
        "\n",
        "thumbs_down_df.show(5)\n",
        "\n",
        "features.append(thumbs_down_df)"
      ],
      "metadata": {
        "id": "i7ZtlQCtjo6c",
        "colab": {
          "base_uri": "https://localhost:8080/",
          "height": 0
        },
        "outputId": "7e1c4f89-3d00-44f0-9fd5-5f7a70f2ddf1"
      },
      "execution_count": 50,
      "outputs": [
        {
          "output_type": "stream",
          "name": "stdout",
          "text": [
            "+------+-----------+\n",
            "|userId|thumbs_down|\n",
            "+------+-----------+\n",
            "|    51|          9|\n",
            "|   124|         10|\n",
            "|     7|          1|\n",
            "|    15|          7|\n",
            "|    54|          5|\n",
            "+------+-----------+\n",
            "only showing top 5 rows\n",
            "\n"
          ]
        }
      ]
    },
    {
      "cell_type": "code",
      "source": [
        "thumbs_up_df = df.select('userId', 'page').where(df.page == 'Thumbs Up').groupBy('userId').count() \\\n",
        "                    .withColumnRenamed('count', 'thumbs_up')\n",
        "thumbs_up_df.show(5)\n",
        "\n",
        "features.append(thumbs_up_df)"
      ],
      "metadata": {
        "id": "McOK984Mj84E",
        "colab": {
          "base_uri": "https://localhost:8080/",
          "height": 0
        },
        "outputId": "0c22a084-3d82-4170-841e-8e6afd568173"
      },
      "execution_count": 51,
      "outputs": [
        {
          "output_type": "stream",
          "name": "stdout",
          "text": [
            "+------+---------+\n",
            "|userId|thumbs_up|\n",
            "+------+---------+\n",
            "|    51|       74|\n",
            "|   124|       44|\n",
            "|    54|       30|\n",
            "|    15|       27|\n",
            "|   132|        1|\n",
            "+------+---------+\n",
            "only showing top 5 rows\n",
            "\n"
          ]
        }
      ]
    },
    {
      "cell_type": "code",
      "source": [
        "time_since_registration_df = df.groupby(['userId', 'ts', 'registration']).count() \\\n",
        "                    .withColumn('life_time', (df.ts - df.registration) / 1000) \\\n",
        "                    .groupBy('userId').agg(Fmax('life_time')) \\\n",
        "                    .withColumnRenamed('max(life_time)', 'time_since_registration')\n",
        "\n",
        "time_since_registration_df.show(5)\n",
        "\n",
        "features.append(time_since_registration_df)"
      ],
      "metadata": {
        "id": "sr_0e79yj86p",
        "colab": {
          "base_uri": "https://localhost:8080/",
          "height": 0
        },
        "outputId": "4c1ab07e-d90a-47ff-c9a5-7b810af9ecea"
      },
      "execution_count": 52,
      "outputs": [
        {
          "output_type": "stream",
          "name": "stdout",
          "text": [
            "+------+-----------------------+\n",
            "|userId|time_since_registration|\n",
            "+------+-----------------------+\n",
            "|    51|               917552.0|\n",
            "|   124|              6818687.0|\n",
            "|     7|              2063583.0|\n",
            "|    54|              6564452.0|\n",
            "|    15|              2137167.0|\n",
            "+------+-----------------------+\n",
            "only showing top 5 rows\n",
            "\n"
          ]
        }
      ]
    },
    {
      "cell_type": "code",
      "source": [
        "avg_songs_p_session_df = df.where(df.song.isNotNull()).groupby(['userId', 'sessionId']).count()\\\n",
        "                            .groupby(['userId']).agg({'count': 'avg'}) \\\n",
        "                            .withColumnRenamed('avg(count)', 'avg_songs_p_session')\n",
        "\n",
        "avg_songs_p_session_df.show(5)\n",
        "\n",
        "features.append(avg_songs_p_session_df)"
      ],
      "metadata": {
        "id": "sgeyX0KZj89Z",
        "colab": {
          "base_uri": "https://localhost:8080/",
          "height": 0
        },
        "outputId": "a916be71-7619-4318-a7ed-daafad58c082"
      },
      "execution_count": 53,
      "outputs": [
        {
          "output_type": "stream",
          "name": "stdout",
          "text": [
            "+------+-------------------+\n",
            "|userId|avg_songs_p_session|\n",
            "+------+-------------------+\n",
            "|   124|              234.2|\n",
            "|    51|              381.0|\n",
            "|     7|                9.0|\n",
            "|    15|              166.2|\n",
            "|    54|  83.85714285714286|\n",
            "+------+-------------------+\n",
            "only showing top 5 rows\n",
            "\n"
          ]
        }
      ]
    },
    {
      "cell_type": "code",
      "source": [
        "songs_in_playlist_df = df.select('userID', 'page') \\\n",
        "                            .where(df.page == 'Add to Playlist').groupBy('userID').count() \\\n",
        "                            .withColumnRenamed('count', 'songs_in_playlist')\n",
        "\n",
        "songs_in_playlist_df.show(5)\n",
        "\n",
        "features.append(songs_in_playlist_df)"
      ],
      "metadata": {
        "id": "EH7eGey3j8_0",
        "colab": {
          "base_uri": "https://localhost:8080/",
          "height": 0
        },
        "outputId": "5ffe6787-49ad-488b-b00b-a927693ec247"
      },
      "execution_count": 54,
      "outputs": [
        {
          "output_type": "stream",
          "name": "stdout",
          "text": [
            "+------+-----------------+\n",
            "|userID|songs_in_playlist|\n",
            "+------+-----------------+\n",
            "|    51|               37|\n",
            "|   124|               33|\n",
            "|    15|               21|\n",
            "|    54|               12|\n",
            "|   101|               27|\n",
            "+------+-----------------+\n",
            "only showing top 5 rows\n",
            "\n"
          ]
        }
      ]
    },
    {
      "cell_type": "code",
      "source": [
        "number_of_friends_df = df.where('page == \"Add Friend\"').groupby(['userId']).count()\\\n",
        "                        .groupby(['userId']).agg({'count': 'avg'}).withColumnRenamed('avg(count)', 'number_of_friends')\n",
        "                                                                 \n",
        "number_of_friends_df.show(5)\n",
        "\n",
        "features.append(number_of_friends_df)"
      ],
      "metadata": {
        "id": "j3jz_ZAvj9CR",
        "colab": {
          "base_uri": "https://localhost:8080/",
          "height": 0
        },
        "outputId": "e009e8c1-c617-476b-d06f-5c6607e83a70"
      },
      "execution_count": 55,
      "outputs": [
        {
          "output_type": "stream",
          "name": "stdout",
          "text": [
            "+------+-----------------+\n",
            "|userId|number_of_friends|\n",
            "+------+-----------------+\n",
            "|    51|             29.0|\n",
            "|   124|             22.0|\n",
            "|     7|              1.0|\n",
            "|    54|             11.0|\n",
            "|    15|             13.0|\n",
            "+------+-----------------+\n",
            "only showing top 5 rows\n",
            "\n"
          ]
        }
      ]
    },
    {
      "cell_type": "code",
      "source": [
        "help_df = df.groupby('userId').agg(Fsum(when(col('page') == 'Help', 1).otherwise(0)).alias('help_visits'))\n",
        "\n",
        "help_df.show(5)\n",
        "\n",
        "features.append(help_df)"
      ],
      "metadata": {
        "id": "WBFKlMtfj9Ej",
        "colab": {
          "base_uri": "https://localhost:8080/",
          "height": 0
        },
        "outputId": "9ee04ff4-3535-43d6-b8f3-37cee1fd464b"
      },
      "execution_count": 56,
      "outputs": [
        {
          "output_type": "stream",
          "name": "stdout",
          "text": [
            "+------+-----------+\n",
            "|userId|help_visits|\n",
            "+------+-----------+\n",
            "|    51|          7|\n",
            "|   124|          7|\n",
            "|     7|          0|\n",
            "|    54|          6|\n",
            "|    15|          2|\n",
            "+------+-----------+\n",
            "only showing top 5 rows\n",
            "\n"
          ]
        }
      ]
    },
    {
      "cell_type": "code",
      "source": [
        "settings_df = df.groupby('userId').agg(Fsum(when(col('page') == 'Settings', 1).otherwise(0)).alias('settings_visits'))\n",
        "\n",
        "settings_df.show(5)\n",
        "\n",
        "features.append(settings_df)"
      ],
      "metadata": {
        "id": "cwhwOYa4kK8V",
        "colab": {
          "base_uri": "https://localhost:8080/",
          "height": 0
        },
        "outputId": "127f9649-b40e-4bd4-9a0d-c80578a06f08"
      },
      "execution_count": 57,
      "outputs": [
        {
          "output_type": "stream",
          "name": "stdout",
          "text": [
            "+------+---------------+\n",
            "|userId|settings_visits|\n",
            "+------+---------------+\n",
            "|    51|              9|\n",
            "|   124|             10|\n",
            "|     7|              0|\n",
            "|    54|              2|\n",
            "|    15|             10|\n",
            "+------+---------------+\n",
            "only showing top 5 rows\n",
            "\n"
          ]
        }
      ]
    },
    {
      "cell_type": "code",
      "source": [
        "errors_df = df.groupby('userId').agg(Fsum(when(col('page') == 'Error', 1).otherwise(0)).alias('errors'))\n",
        "\n",
        "errors_df.show(5)\n",
        "\n",
        "features.append(errors_df)"
      ],
      "metadata": {
        "id": "rKkwx7g6kNBs",
        "colab": {
          "base_uri": "https://localhost:8080/",
          "height": 0
        },
        "outputId": "cb319541-096c-4b43-c99b-c5f824238e39"
      },
      "execution_count": 58,
      "outputs": [
        {
          "output_type": "stream",
          "name": "stdout",
          "text": [
            "+------+------+\n",
            "|userId|errors|\n",
            "+------+------+\n",
            "|    51|     1|\n",
            "|   124|     4|\n",
            "|     7|     0|\n",
            "|    54|     2|\n",
            "|    15|     2|\n",
            "+------+------+\n",
            "only showing top 5 rows\n",
            "\n"
          ]
        }
      ]
    },
    {
      "cell_type": "code",
      "source": [
        "downgrade_df = df.select('userId', 'downgrade').dropDuplicates()\n",
        "\n",
        "downgrade_df.show(5)\n",
        "\n",
        "features.append(downgrade_df)"
      ],
      "metadata": {
        "id": "akuz63X2kNEY",
        "colab": {
          "base_uri": "https://localhost:8080/",
          "height": 0
        },
        "outputId": "f6d26d1e-7994-40c7-fd68-b2c380bce841"
      },
      "execution_count": 59,
      "outputs": [
        {
          "output_type": "stream",
          "name": "stdout",
          "text": [
            "+------+---------+\n",
            "|userId|downgrade|\n",
            "+------+---------+\n",
            "|    73|        0|\n",
            "|    50|        0|\n",
            "|    30|        0|\n",
            "|     4|        0|\n",
            "|    65|        0|\n",
            "+------+---------+\n",
            "only showing top 5 rows\n",
            "\n"
          ]
        }
      ]
    },
    {
      "cell_type": "code",
      "source": [
        "level_df = df.groupby('userId').agg(last(when(col('level') == 'paid', 1).otherwise(0)).alias('level'))\n",
        "\n",
        "level_df.show(5)\n",
        "\n",
        "features.append(level_df)"
      ],
      "metadata": {
        "id": "1W_T9hdFkNHA",
        "colab": {
          "base_uri": "https://localhost:8080/",
          "height": 0
        },
        "outputId": "2b5c3c37-2e3b-4213-8db0-cc1cb9dd41f1"
      },
      "execution_count": 60,
      "outputs": [
        {
          "output_type": "stream",
          "name": "stdout",
          "text": [
            "+------+-----+\n",
            "|userId|level|\n",
            "+------+-----+\n",
            "|    51|    1|\n",
            "|   124|    1|\n",
            "|     7|    0|\n",
            "|    54|    1|\n",
            "|    15|    0|\n",
            "+------+-----+\n",
            "only showing top 5 rows\n",
            "\n"
          ]
        }
      ]
    },
    {
      "cell_type": "code",
      "source": [
        "churn = df.select('userId', 'user_churn').dropDuplicates()\n",
        "\n",
        "churn.show(5)\n",
        "\n",
        "features.append(churn)"
      ],
      "metadata": {
        "id": "djkcdZt7kNJk"
      },
      "execution_count": null,
      "outputs": []
    },
    {
      "cell_type": "code",
      "source": [
        "print(features)"
      ],
      "metadata": {
        "id": "BDl9ksQzkNOi",
        "colab": {
          "base_uri": "https://localhost:8080/",
          "height": 0
        },
        "outputId": "fa5e5019-35af-4a14-8b9d-1b97457e9954"
      },
      "execution_count": 62,
      "outputs": [
        {
          "output_type": "stream",
          "name": "stdout",
          "text": [
            "[DataFrame[userID: string, songs: bigint], DataFrame[userId: string, gender: int], DataFrame[userId: string, thumbs_down: bigint], DataFrame[userId: string, thumbs_up: bigint], DataFrame[userId: string, time_since_registration: double], DataFrame[userId: string, avg_songs_p_session: double], DataFrame[userID: string, songs_in_playlist: bigint], DataFrame[userId: string, number_of_friends: double], DataFrame[userId: string, help_visits: bigint], DataFrame[userId: string, settings_visits: bigint], DataFrame[userId: string, errors: bigint], DataFrame[userId: string, downgrade: int], DataFrame[userId: string, level: int], DataFrame[userId: string, user_churn: int]]\n"
          ]
        }
      ]
    },
    {
      "cell_type": "code",
      "source": [
        "final_df = songs_df\n",
        "\n",
        "def merging_dataframes(a_df, b_df):\n",
        "    '''  \n",
        "    INPUT: \n",
        "    a_df, b_df - dataframes to be merged\n",
        "    \n",
        "    OUTPUT: \n",
        "    merged_df - merged dataframe\n",
        "    \n",
        "    Description: \n",
        "    Join dataframes\n",
        "    '''\n",
        "    \n",
        "    merged_df = b_df.join(a_df, on=['userId'], how='left')\n",
        "    \n",
        "    return merged_df\n",
        "\n",
        "for names in features[1:]:\n",
        "    final_df = merging_dataframes(final_df, names)\n",
        "\n",
        "# fill nans\n",
        "final_df = final_df.na.fill(0)\n",
        "final_df.show(5)"
      ],
      "metadata": {
        "id": "vUsQOXmakXMb",
        "colab": {
          "base_uri": "https://localhost:8080/",
          "height": 0
        },
        "outputId": "e07d815e-373a-46d6-c4af-3eb85f420564"
      },
      "execution_count": 63,
      "outputs": [
        {
          "output_type": "stream",
          "name": "stdout",
          "text": [
            "+------+----------+-----+---------+------+---------------+-----------+-----------------+-----------------+-------------------+-----------------------+---------+-----------+------+-----+\n",
            "|userId|user_churn|level|downgrade|errors|settings_visits|help_visits|number_of_friends|songs_in_playlist|avg_songs_p_session|time_since_registration|thumbs_up|thumbs_down|gender|songs|\n",
            "+------+----------+-----+---------+------+---------------+-----------+-----------------+-----------------+-------------------+-----------------------+---------+-----------+------+-----+\n",
            "|    10|         0|    1|        0|     0|              1|          0|              3.0|                1|               57.0|               819877.0|        3|          0|     0|    0|\n",
            "|   100|         0|    1|        0|     0|              1|          1|              6.0|                6|  84.66666666666667|               900862.0|       16|          4|     0|  254|\n",
            "|   101|         0|    1|        0|     2|              2|          8|             22.0|               27| 144.42857142857142|              4018918.0|       45|          7|     0| 1011|\n",
            "|   102|         0|    0|        0|     1|              0|          0|              0.0|                0|                0.0|                    0.0|        0|          0|     0|    0|\n",
            "|   103|         0|    0|        0|     0|              0|          0|              1.0|                1|  8.666666666666666|              1280878.0|        2|          0|     0|    0|\n",
            "+------+----------+-----+---------+------+---------------+-----------+-----------------+-----------------+-------------------+-----------------------+---------+-----------+------+-----+\n",
            "only showing top 5 rows\n",
            "\n"
          ]
        }
      ]
    },
    {
      "cell_type": "code",
      "source": [
        "final_df.printSchema()"
      ],
      "metadata": {
        "id": "4B0sl7VakXPF",
        "colab": {
          "base_uri": "https://localhost:8080/",
          "height": 0
        },
        "outputId": "46fbcfd8-1768-4706-83f2-365f1c9e377c"
      },
      "execution_count": 64,
      "outputs": [
        {
          "output_type": "stream",
          "name": "stdout",
          "text": [
            "root\n",
            " |-- userId: string (nullable = true)\n",
            " |-- user_churn: integer (nullable = true)\n",
            " |-- level: integer (nullable = true)\n",
            " |-- downgrade: integer (nullable = true)\n",
            " |-- errors: long (nullable = true)\n",
            " |-- settings_visits: long (nullable = true)\n",
            " |-- help_visits: long (nullable = true)\n",
            " |-- number_of_friends: double (nullable = false)\n",
            " |-- songs_in_playlist: long (nullable = true)\n",
            " |-- avg_songs_p_session: double (nullable = false)\n",
            " |-- time_since_registration: double (nullable = false)\n",
            " |-- thumbs_up: long (nullable = true)\n",
            " |-- thumbs_down: long (nullable = true)\n",
            " |-- gender: integer (nullable = true)\n",
            " |-- songs: long (nullable = true)\n",
            "\n"
          ]
        }
      ]
    },
    {
      "cell_type": "markdown",
      "source": [
        "**MODELING**"
      ],
      "metadata": {
        "id": "ZAAzV0OLkc_N"
      }
    },
    {
      "cell_type": "code",
      "source": [
        "final_df.columns"
      ],
      "metadata": {
        "id": "ZV3gGbLrkXRg",
        "colab": {
          "base_uri": "https://localhost:8080/",
          "height": 0
        },
        "outputId": "500447f9-6eb3-498d-c5eb-a11b988dfe93"
      },
      "execution_count": 65,
      "outputs": [
        {
          "output_type": "execute_result",
          "data": {
            "text/plain": [
              "['userId',\n",
              " 'user_churn',\n",
              " 'level',\n",
              " 'downgrade',\n",
              " 'errors',\n",
              " 'settings_visits',\n",
              " 'help_visits',\n",
              " 'number_of_friends',\n",
              " 'songs_in_playlist',\n",
              " 'avg_songs_p_session',\n",
              " 'time_since_registration',\n",
              " 'thumbs_up',\n",
              " 'thumbs_down',\n",
              " 'gender',\n",
              " 'songs']"
            ]
          },
          "metadata": {},
          "execution_count": 65
        }
      ]
    },
    {
      "cell_type": "code",
      "source": [
        "# Create VectorAssembler and StandardScaler objects\n",
        "# numeric features transform separately from binary\n",
        "num_vector = VectorAssembler(inputCols=['downgrade', 'errors', 'settings_visits', \n",
        "                                        'help_visits', 'number_of_friends', 'songs_in_playlist', \n",
        "                                        'avg_songs_p_session', 'time_since_registration', 'thumbs_up', \n",
        "                                        'thumbs_down', 'songs','level', 'gender'], \n",
        "                             outputCol='num_vector_assem')\n",
        "\n",
        "num_scaler = StandardScaler(inputCol='num_vector_assem', outputCol ='num_vector_sc', withStd=True, withMean=True)\n",
        "\n",
        "final_vector = VectorAssembler(inputCols=['level', 'gender']+['num_vector_sc'], \n",
        "                               outputCol='features_vector')"
      ],
      "metadata": {
        "id": "1-SuGKbqkXUH"
      },
      "execution_count": 66,
      "outputs": []
    },
    {
      "cell_type": "code",
      "source": [
        "# Transform data\n",
        "data = num_vector.transform(final_df)\n",
        "\n",
        "feature_standardize = num_scaler.fit(data)\n",
        "data = feature_standardize.transform(data)\n",
        "\n",
        "data = final_vector.transform(data)"
      ],
      "metadata": {
        "id": "bcaDxvDTkjQz"
      },
      "execution_count": 67,
      "outputs": []
    },
    {
      "cell_type": "code",
      "source": [
        "#final data\n",
        "data = data.select(data.user_churn, data.features_vector)\n",
        "data.show(5)"
      ],
      "metadata": {
        "id": "Xm2BeQeSkldE",
        "colab": {
          "base_uri": "https://localhost:8080/",
          "height": 0
        },
        "outputId": "41940885-16ce-4545-ae10-f2a9602b1335"
      },
      "execution_count": 68,
      "outputs": [
        {
          "output_type": "stream",
          "name": "stdout",
          "text": [
            "+----------+--------------------+\n",
            "|user_churn|     features_vector|\n",
            "+----------+--------------------+\n",
            "|         0|[1.0,0.0,-0.20587...|\n",
            "|         0|[1.0,0.0,-0.20587...|\n",
            "|         0|[1.0,0.0,-0.20587...|\n",
            "|         0|[0.0,0.0,-0.20587...|\n",
            "|         0|[0.0,0.0,-0.20587...|\n",
            "+----------+--------------------+\n",
            "only showing top 5 rows\n",
            "\n"
          ]
        }
      ]
    },
    {
      "cell_type": "code",
      "source": [
        "# Split Test and Train set\n",
        "train, test = data.randomSplit([0.6, 0.4], seed=42)"
      ],
      "metadata": {
        "id": "mEjvXcQEkoOp"
      },
      "execution_count": 69,
      "outputs": []
    },
    {
      "cell_type": "code",
      "source": [
        "# function for printing results\n",
        "def evaluate_print(model_result, model_name, start, end):\n",
        "    ''' \n",
        "    INPUT:\n",
        "    model_result : result\n",
        "    model_name : string\n",
        "    start, end : training time start and end\n",
        "    \n",
        "    OUTPUT: list\n",
        "    \n",
        "    Description:\n",
        "    The function return list of results and prints results and total time of the training\n",
        "    \n",
        "    '''\n",
        "    \n",
        "    evaluator = MulticlassClassificationEvaluator(predictionCol='prediction')\n",
        "    evaluator.setLabelCol('user_churn')\n",
        "    accuracy = evaluator.evaluate(model_result, {evaluator.metricName : 'accuracy'})\n",
        "    f1 = evaluator.evaluate(model_result, {evaluator.metricName : 'f1'})\n",
        "    time = (end - start)/60\n",
        "    \n",
        "    result = [model_name, round(accuracy,3), round(f1,3), round(time,1)]\n",
        "    \n",
        "    print('{} performance metrics:'.format(model_name))\n",
        "    print('Accuracy: {}'.format(accuracy))\n",
        "    print('F-1 Score: {}'.format(f1))\n",
        "    print('Total training time: {} minutes'.format(time))\n",
        "    "
      ],
      "metadata": {
        "id": "UZzEkkHMkqoS"
      },
      "execution_count": 70,
      "outputs": []
    },
    {
      "cell_type": "code",
      "source": [
        "def reports(model_result):\n",
        "    '''\n",
        "    INPUT:\n",
        "    model_result : list\n",
        "    \n",
        "    OUTPUT: None\n",
        "    \n",
        "    Description:\n",
        "    The function aggregate and prints results of models\n",
        "    \n",
        "    '''\n",
        "    print(model_result[0])\n",
        "    print('Accuracy: {}'.format(model_result[1]))\n",
        "    print('F-1 Score: {}'.format(model_result[2]))\n",
        "    print('Total training time: {} minutes'.format(model_result[3]))\n",
        "    \n",
        "    print()"
      ],
      "metadata": {
        "id": "8__-UmrGktt4"
      },
      "execution_count": 71,
      "outputs": []
    },
    {
      "cell_type": "markdown",
      "source": [
        "**BASELINE MODEL**"
      ],
      "metadata": {
        "id": "TQXW_AB2kws7"
      }
    },
    {
      "cell_type": "code",
      "source": [
        "#baseline model\n",
        "baseline = test.withColumn('prediction', lit(0.0))\n",
        "baseline.show(5)"
      ],
      "metadata": {
        "id": "ewIh5thlkv35",
        "colab": {
          "base_uri": "https://localhost:8080/",
          "height": 0
        },
        "outputId": "b3126dd0-6a4a-49fb-ec68-8fdcbb359441"
      },
      "execution_count": 72,
      "outputs": [
        {
          "output_type": "stream",
          "name": "stdout",
          "text": [
            "+----------+--------------------+----------+\n",
            "|user_churn|     features_vector|prediction|\n",
            "+----------+--------------------+----------+\n",
            "|         0|[0.0,0.0,-0.20587...|       0.0|\n",
            "|         0|[0.0,0.0,-0.20587...|       0.0|\n",
            "|         0|[0.0,0.0,-0.20587...|       0.0|\n",
            "|         0|[0.0,0.0,-0.20587...|       0.0|\n",
            "|         0|[0.0,0.0,-0.20587...|       0.0|\n",
            "+----------+--------------------+----------+\n",
            "only showing top 5 rows\n",
            "\n"
          ]
        }
      ]
    },
    {
      "cell_type": "code",
      "source": [
        "#print baseline model\n",
        "baseline_result = evaluate_print(baseline, 'Baseline', 0, 0)"
      ],
      "metadata": {
        "id": "I5xErhqik1l4",
        "colab": {
          "base_uri": "https://localhost:8080/",
          "height": 0
        },
        "outputId": "dda602e4-7054-4c0e-d8bb-9c71bd2bd436"
      },
      "execution_count": 73,
      "outputs": [
        {
          "output_type": "stream",
          "name": "stdout",
          "text": [
            "Baseline performance metrics:\n",
            "Accuracy: 1.0\n",
            "F-1 Score: 1.0\n",
            "Total training time: 0.0 minutes\n"
          ]
        }
      ]
    },
    {
      "cell_type": "code",
      "source": [
        "# start training\n",
        "START = time.time()"
      ],
      "metadata": {
        "id": "oKECpbqYk17h"
      },
      "execution_count": 74,
      "outputs": []
    },
    {
      "cell_type": "code",
      "source": [
        "###LOGISTIC REGRESSION"
      ],
      "metadata": {
        "id": "ywjXmRowF19o"
      },
      "execution_count": 76,
      "outputs": []
    },
    {
      "cell_type": "code",
      "source": [
        "numFolds = 3\n",
        "lr = LogisticRegression(maxIter=10, labelCol='user_churn', featuresCol='features_vector')\n",
        "evaluator = MulticlassClassificationEvaluator(labelCol='user_churn')\n",
        "\n",
        "pipeline = Pipeline(stages=[lr])\n",
        "lr_paramGrid = (ParamGridBuilder()\n",
        "                .addGrid(lr.regParam, [0.1, 0.01, 0.001])\n",
        "                .build())\n",
        "\n",
        "\n",
        "crossval = CrossValidator(\n",
        "    estimator=pipeline,\n",
        "    estimatorParamMaps=lr_paramGrid,\n",
        "    evaluator=evaluator,\n",
        "    numFolds=numFolds)\n",
        "\n",
        "lr_start = time.time()\n",
        "lr_model = crossval.fit(train)\n",
        "lr_end = time.time()"
      ],
      "metadata": {
        "id": "dhi7OAJTF2Hl"
      },
      "execution_count": 75,
      "outputs": []
    },
    {
      "cell_type": "code",
      "source": [
        "lr_results = lr_model.transform(test)\n",
        "\n",
        "lr_safe = evaluate_print(lr_results, 'Logistic Regression', lr_start, lr_end)\n",
        "\n",
        "best_param = list(lr_model.getEstimatorParamMaps()[np.argmax(lr_model.avgMetrics)].values())\n",
        "print('Best regression parameter is {}'.format(best_param[0]))"
      ],
      "metadata": {
        "colab": {
          "base_uri": "https://localhost:8080/",
          "height": 0
        },
        "id": "FAA5BR22F2J3",
        "outputId": "b3ca3ae9-7a28-404f-ea1e-17ddfdc9fce9"
      },
      "execution_count": 78,
      "outputs": [
        {
          "output_type": "stream",
          "name": "stdout",
          "text": [
            "Logistic Regression performance metrics:\n",
            "Accuracy: 1.0\n",
            "F-1 Score: 1.0\n",
            "Total training time: 7.171402581532797 minutes\n",
            "Best regression parameter is 0.1\n"
          ]
        }
      ]
    },
    {
      "cell_type": "code",
      "source": [
        "###RANDOM FOREST CLASSIFIER"
      ],
      "metadata": {
        "id": "uOFKr9kFF2TX"
      },
      "execution_count": 80,
      "outputs": []
    },
    {
      "cell_type": "code",
      "source": [
        "numFolds = 3\n",
        "rf = RandomForestClassifier(labelCol='user_churn', featuresCol='features_vector', seed = 42)\n",
        "evaluator = MulticlassClassificationEvaluator(labelCol='user_churn')\n",
        "\n",
        "pipeline = Pipeline(stages=[rf])\n",
        "rf_paramGrid = (ParamGridBuilder()\n",
        "             .addGrid(rf.numTrees, [10,20])\n",
        "             .addGrid(rf.maxDepth, [10,20])\n",
        "             .build())\n",
        "\n",
        "crossval = CrossValidator(\n",
        "    estimator=pipeline,\n",
        "    estimatorParamMaps=rf_paramGrid,\n",
        "    evaluator=evaluator,\n",
        "    numFolds=numFolds)\n",
        "\n",
        "rf_start = time.time()\n",
        "rf_model = crossval.fit(train)\n",
        "rf_end = time.time()"
      ],
      "metadata": {
        "id": "x3BfKvqHF208"
      },
      "execution_count": 79,
      "outputs": []
    },
    {
      "cell_type": "code",
      "source": [
        "rf_results = rf_model.transform(test)\n",
        "\n",
        "rf_safe = evaluate_print(rf_results, 'Random Forest', rf_start, rf_end)\n",
        "\n",
        "best_param = list(rf_model.getEstimatorParamMaps()[np.argmax(rf_model.avgMetrics)].values())\n",
        "print('Best number of trees {}, best depth {}'.format(best_param[0], best_param[1]))"
      ],
      "metadata": {
        "colab": {
          "base_uri": "https://localhost:8080/",
          "height": 0
        },
        "id": "e3Gam0L6F23a",
        "outputId": "391f4694-dfba-4d3f-9f6d-d2233d5e62de"
      },
      "execution_count": 83,
      "outputs": [
        {
          "output_type": "stream",
          "name": "stdout",
          "text": [
            "Random Forest performance metrics:\n",
            "Accuracy: 1.0\n",
            "F-1 Score: 1.0\n",
            "Total training time: 7.705735313892364 minutes\n",
            "Best number of trees 10, best depth 10\n"
          ]
        }
      ]
    },
    {
      "cell_type": "code",
      "source": [
        "### GRADIENT BOOSTED TREES"
      ],
      "metadata": {
        "id": "wceOkJaKGnvT"
      },
      "execution_count": 94,
      "outputs": []
    },
    {
      "cell_type": "code",
      "source": [
        "numFolds = 3\n",
        "gbt = GBTClassifier(labelCol='user_churn', featuresCol='features_vector', seed = 42)\n",
        "evaluator = MulticlassClassificationEvaluator(labelCol='user_churn')\n",
        "\n",
        "pipeline = Pipeline(stages=[gbt])\n",
        "gbt_paramGrid = (ParamGridBuilder()\n",
        "                 .addGrid(gbt.maxIter, [10,20])\n",
        "                 .addGrid(gbt.maxDepth, [10,20])\n",
        "                 .build())\n",
        "\n",
        "crossval = CrossValidator(\n",
        "    estimator=pipeline,\n",
        "    estimatorParamMaps=gbt_paramGrid,\n",
        "    evaluator=evaluator,\n",
        "    numFolds=numFolds)\n",
        "\n",
        "gbt_start = time.time()\n",
        "gbt_model = crossval.fit(train)\n",
        "gbt_end = time.time()"
      ],
      "metadata": {
        "id": "n0Sbdn4IGnxi"
      },
      "execution_count": 85,
      "outputs": []
    },
    {
      "cell_type": "code",
      "source": [
        "gbt_results = gbt_model.transform(test)\n",
        "\n",
        "gbt_safe = evaluate_print(gbt_results, 'Gradient Boosted Trees', gbt_start, gbt_end)\n",
        "\n",
        "best_param = list(gbt_model.getEstimatorParamMaps()[np.argmax(rf_model.avgMetrics)].values())\n",
        "print('Best number of iterations {}, best depth {}'.format(best_param[0], best_param[1]))"
      ],
      "metadata": {
        "colab": {
          "base_uri": "https://localhost:8080/",
          "height": 0
        },
        "id": "j0FMZmW8Gn0Q",
        "outputId": "43fad94c-3ff8-437a-d9ce-a26bbd116ef5"
      },
      "execution_count": 86,
      "outputs": [
        {
          "output_type": "stream",
          "name": "stdout",
          "text": [
            "Gradient Boosted Trees performance metrics:\n",
            "Accuracy: 0.9615384615384616\n",
            "F-1 Score: 0.9803921568627451\n",
            "Total training time: 33.289291846752164 minutes\n",
            "Best number of iterations 10, best depth 10\n"
          ]
        }
      ]
    },
    {
      "cell_type": "code",
      "source": [
        "END = time.time()"
      ],
      "metadata": {
        "id": "UfzPnybRGvjM"
      },
      "execution_count": 92,
      "outputs": []
    },
    {
      "cell_type": "code",
      "source": [
        ""
      ],
      "metadata": {
        "id": "2CVxn6nHG007"
      },
      "execution_count": null,
      "outputs": []
    },
    {
      "cell_type": "code",
      "source": [
        ""
      ],
      "metadata": {
        "id": "ImbvzraGG03C"
      },
      "execution_count": null,
      "outputs": []
    }
  ]
}